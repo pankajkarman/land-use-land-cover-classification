{
 "cells": [
  {
   "cell_type": "code",
   "execution_count": 1,
   "metadata": {},
   "outputs": [
    {
     "ename": "ImportError",
     "evalue": "No module named folium",
     "output_type": "error",
     "traceback": [
      "\u001b[0;31m---------------------------------------------------------------------------\u001b[0m",
      "\u001b[0;31mImportError\u001b[0m                               Traceback (most recent call last)",
      "\u001b[0;32m<ipython-input-1-0739e1395734>\u001b[0m in \u001b[0;36m<module>\u001b[0;34m()\u001b[0m\n\u001b[1;32m      1\u001b[0m \u001b[0;32mfrom\u001b[0m \u001b[0minit\u001b[0m \u001b[0;32mimport\u001b[0m \u001b[0;34m*\u001b[0m\u001b[0;34m\u001b[0m\u001b[0m\n\u001b[1;32m      2\u001b[0m \u001b[0;32mfrom\u001b[0m \u001b[0mfiona\u001b[0m\u001b[0;34m.\u001b[0m\u001b[0mcrs\u001b[0m \u001b[0;32mimport\u001b[0m \u001b[0mfrom_epsg\u001b[0m\u001b[0;34m\u001b[0m\u001b[0m\n\u001b[0;32m----> 3\u001b[0;31m \u001b[0;32mimport\u001b[0m \u001b[0mfolium\u001b[0m\u001b[0;34m,\u001b[0m \u001b[0mtime\u001b[0m\u001b[0;34m,\u001b[0m \u001b[0mrasterio\u001b[0m\u001b[0;34m\u001b[0m\u001b[0m\n\u001b[0m\u001b[1;32m      4\u001b[0m \u001b[0;32mfrom\u001b[0m \u001b[0mmatplotlib\u001b[0m\u001b[0;34m.\u001b[0m\u001b[0mcolors\u001b[0m \u001b[0;32mimport\u001b[0m \u001b[0mListedColormap\u001b[0m\u001b[0;34m\u001b[0m\u001b[0m\n",
      "\u001b[0;31mImportError\u001b[0m: No module named folium"
     ]
    }
   ],
   "source": [
    "from init import *\n",
    "from fiona.crs import from_epsg\n",
    "import folium, time, rasterio\n",
    "from matplotlib.colors import ListedColormap"
   ]
  },
  {
   "cell_type": "code",
   "execution_count": null,
   "metadata": {},
   "outputs": [],
   "source": [
    "import ee\n",
    "#ee.Authenticate()\n",
    "# Initialize the library.\n",
    "ee.Initialize()"
   ]
  },
  {
   "cell_type": "code",
   "execution_count": null,
   "metadata": {},
   "outputs": [],
   "source": [
    "# Define the URL format used for Earth Engine generated map tiles.\n",
    "EE_TILES = 'https://earthengine.googleapis.com/map/{mapid}/{{z}}/{{x}}/{{y}}?token={token}'\n",
    "print('Folium version: ' + folium.__version__)"
   ]
  },
  {
   "cell_type": "code",
   "execution_count": null,
   "metadata": {},
   "outputs": [],
   "source": [
    "def mapshow(mapid, location, name='composite'):\n",
    "    EE_TILES = 'https://earthengine.googleapis.com/map/{mapid}/{{z}}/{{x}}/{{y}}?token={token}'\n",
    "    fmap = folium.Map(location=location)\n",
    "    folium.TileLayer(\n",
    "        tiles   = EE_TILES.format(**mapid),\n",
    "        attr    = 'Google Earth Engine',\n",
    "        overlay = True,\n",
    "        name    = name).add_to(fmap)\n",
    "    fmap.add_child(folium.LayerControl())\n",
    "    return fmap \n",
    "\n",
    "#@title Mapdisplay: Display GEE objects using folium.\n",
    "def Mapdisplay(center, dicc, Tiles=\"OpensTreetMap\",zoom_start=10):\n",
    "    mapViz = folium.Map(location=center,tiles=Tiles, zoom_start=zoom_start)\n",
    "    for k,v in dicc.items():\n",
    "        if ee.image.Image in [type(x) for x in v.values()]:\n",
    "            folium.TileLayer(\n",
    "                tiles = EE_TILES.format(**v),\n",
    "                attr  = 'Google Earth Engine',\n",
    "                overlay =True,\n",
    "                name  = k\n",
    "              ).add_to(mapViz)\n",
    "        else:\n",
    "            folium.GeoJson(\n",
    "            data = v,\n",
    "            name = k\n",
    "              ).add_to(mapViz)\n",
    "            mapViz.add_child(folium.LayerControl())\n",
    "            return mapViz\n",
    "\n",
    "# Cloud masking function.\n",
    "def maskL8sr(image):\n",
    "    bands = ['B2', 'B3', 'B4', 'B5', 'B6', 'B7']\n",
    "    cloudShadowBitMask = ee.Number(2).pow(3).int()\n",
    "    cloudsBitMask = ee.Number(2).pow(5).int()\n",
    "    qa = image.select('pixel_qa')\n",
    "    mask = qa.bitwiseAnd(cloudShadowBitMask).eq(0).And(\n",
    "     qa.bitwiseAnd(cloudsBitMask).eq(0))\n",
    "    return image.updateMask(mask).select(bands).divide(10000)"
   ]
  },
  {
   "cell_type": "code",
   "execution_count": null,
   "metadata": {},
   "outputs": [],
   "source": [
    "# Prepare tripura shapefile\n",
    "# nest = gpd.read_file('/home/pankaj/phd/practice/sur/data/neshpfile/NE_utm.shp')\n",
    "# nest = nest.to_crs(from_epsg(4326))\n",
    "# # trip = nest.dissolve(by='ISO').geometry.to_json()\n",
    "# trip = nest[nest.NAME_1 == 'Tripura'].geometry.to_json()\n",
    "# tcor = eval(trip)['features'][0]['geometry']['coordinates'][0]\n",
    "# eetrip = ee.FeatureCollection([ee.Feature(ee.Geometry.Polygon(tcor),{'Name':'Tripura'})])"
   ]
  },
  {
   "cell_type": "code",
   "execution_count": null,
   "metadata": {},
   "outputs": [],
   "source": [
    "eetrip = ee.FeatureCollection(\"users/pankajkmr1990/NE_lat_lon\")\n",
    "center = eetrip.geometry().centroid().getInfo()['coordinates']\n",
    "center.reverse()\n",
    "region = eetrip.geometry().getInfo()['coordinates']"
   ]
  },
  {
   "cell_type": "code",
   "execution_count": null,
   "metadata": {},
   "outputs": [],
   "source": [
    "# LANDSAT 8\n",
    "bands = ['B5', 'B4', 'B3']\n",
    "l8sr = ee.ImageCollection('LANDSAT/LC08/C01/T1_SR').filterDate('2017-01-01', '2017-12-31')\n",
    "image = l8sr.map(maskL8sr).filterBounds(eetrip).median()\n",
    "image = ee.Image(image).select(bands)"
   ]
  },
  {
   "cell_type": "code",
   "execution_count": null,
   "metadata": {},
   "outputs": [],
   "source": [
    "scale  = 30\n",
    "label  = 'Class'\n",
    "#labels = ee.FeatureCollection(\"users/pankajkmr1990/train\").filterBounds(eetrip)\n",
    "labels = ee.FeatureCollection(\"users/smurasingh/Train_India\").filterBounds(eetrip)\n",
    "#labels = labels.remap([1, 2, 3, 4, 5], [0, 1, 2, 3, 4], label)\n",
    "sample = image.sampleRegions(collection=labels, \\\n",
    "                             properties=[label], \\\n",
    "                             scale=scale)\n",
    "\n",
    "#classifier = ee.Classifier.svm(kernelType='RBF', gamma=0.5, cost=10)\n",
    "classifier = ee.Classifier.randomForest(10)\n",
    "trained    = classifier.train(sample, label, bands)\n",
    "classified = image.classify(trained)\n",
    "Export the image, specifying scale and region.\n",
    "task = ee.batch.Export.image.toDrive(**{\n",
    "    'image': classified,\n",
    "    'description': 'class2018',\n",
    "    'folder':'gee',\n",
    "    'fileFormat': 'GeoTIFF',\n",
    "    'scale': scale,\n",
    "    'region': region\n",
    "})\n",
    "\n",
    "task.start()\n",
    "while task.active():\n",
    "    print('Polling for task (id: {}).'.format(task.id))\n",
    "    time.sleep(5)"
   ]
  },
  {
   "cell_type": "code",
   "execution_count": null,
   "metadata": {},
   "outputs": [],
   "source": [
    "# mapid1 = image.getMapId({'min': 0, 'max': 0.5})\n",
    "# mapshow(mapid1, center, name='original')"
   ]
  },
  {
   "cell_type": "code",
   "execution_count": null,
   "metadata": {},
   "outputs": [],
   "source": [
    "#labels = ['water', 'cropland', 'forest', 'built-up', 'snow']\n",
    "#palette = ['blue', 'orange', 'green', 'red', 'white']\n",
    "palette = ['pink', 'yellow', 'green', 'brown', 'cyan', 'blue']\n",
    "#palette = ['aec3d4', 'cdb33b', '152106', 'cc0013', 'd7cdcc']\n",
    "\n",
    "mapid2 = classified.getMapId({'min': 1, 'max': 6, 'palette': palette})\n",
    "mapshow(mapid2, center, name='Classified')"
   ]
  },
  {
   "cell_type": "code",
   "execution_count": null,
   "metadata": {},
   "outputs": [],
   "source": [
    "image.getThumbURL({'min': 0, 'max': 0.5, \\\n",
    "                   'region': region,\\\n",
    "                   'crs': 'EPSG:3857'})"
   ]
  },
  {
   "cell_type": "code",
   "execution_count": null,
   "metadata": {},
   "outputs": [],
   "source": [
    "classified.getThumbURL({'min': 0, 'max': 4, \\\n",
    "                        'palette': palette, \\\n",
    "                        'region': region,\\\n",
    "                        'crs': 'EPSG:3857'})"
   ]
  },
  {
   "cell_type": "code",
   "execution_count": null,
   "metadata": {},
   "outputs": [],
   "source": [
    "# # Export the image, specifying scale and region.\n",
    "# task = ee.batch.Export.image.toDrive(**{\n",
    "#     'image': image,\n",
    "#     'description': 'landsat2018',\n",
    "#     'folder':'gee',\n",
    "#     'fileFormat': 'GeoTIFF',\n",
    "#     'scale': 100,\n",
    "#     'region': region\n",
    "# })\n",
    "\n",
    "# task.start()\n",
    "# while task.active():\n",
    "#     print('Polling for task (id: {}).'.format(task.id))\n",
    "#     time.sleep(5)"
   ]
  },
  {
   "cell_type": "code",
   "execution_count": null,
   "metadata": {},
   "outputs": [],
   "source": [
    "colors = ['white', 'blue', 'orange', 'green', 'red']\n",
    "cmap = ListedColormap(colors)\n",
    "im = rasterio.open('/home/pankaj/Desktop/class2018.tif').read(1)\n",
    "fig, ax = plt.subplots(1, 1, figsize=(15, 15))\n",
    "ax.imshow(im, cmap=cmap)\n",
    "ax.axis('off')\n",
    "plt.show()"
   ]
  }
 ],
 "metadata": {
  "kernelspec": {
   "display_name": "Python 3",
   "language": "python",
   "name": "python3"
  },
  "language_info": {
   "codemirror_mode": {
    "name": "ipython",
    "version": 3
   },
   "file_extension": ".py",
   "mimetype": "text/x-python",
   "name": "python",
   "nbconvert_exporter": "python",
   "pygments_lexer": "ipython3",
   "version": "3.6.3"
  }
 },
 "nbformat": 4,
 "nbformat_minor": 2
}
