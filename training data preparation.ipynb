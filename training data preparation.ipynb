{
 "cells": [
  {
   "cell_type": "code",
   "execution_count": 1,
   "metadata": {},
   "outputs": [],
   "source": [
    "%load_ext autotime\n",
    "import warnings; warnings.filterwarnings('ignore')"
   ]
  },
  {
   "cell_type": "code",
   "execution_count": 2,
   "metadata": {},
   "outputs": [
    {
     "name": "stdout",
     "output_type": "stream",
     "text": [
      "time: 934 ms\n"
     ]
    },
    {
     "name": "stderr",
     "output_type": "stream",
     "text": [
      "/home/pankaj/.local/Anaconda2/lib/python2.7/site-packages/sklearn/ensemble/weight_boosting.py:29: DeprecationWarning: numpy.core.umath_tests is an internal NumPy module and should not be imported. It will be removed in a future NumPy release.\n",
      "  from numpy.core.umath_tests import inner1d\n"
     ]
    }
   ],
   "source": [
    "import numpy as np, pandas as pd, geopandas as gpd\n",
    "import matplotlib.pyplot as plt\n",
    "import rasterio\n",
    "from rasterio import features\n",
    "from sklearn.ensemble import RandomForestClassifier"
   ]
  },
  {
   "cell_type": "code",
   "execution_count": 3,
   "metadata": {},
   "outputs": [
    {
     "name": "stdout",
     "output_type": "stream",
     "text": [
      "time: 1.07 ms\n"
     ]
    }
   ],
   "source": [
    "train_dir = './trainingdata/'\n",
    "labels = ['water', 'cropland', 'forest', 'built-up', 'snow']\n",
    "dic = {'water':1, 'cropland':2, 'forest':5, 'built-up':3, 'snow':8, 'mixforest':6}"
   ]
  },
  {
   "cell_type": "code",
   "execution_count": 4,
   "metadata": {},
   "outputs": [
    {
     "data": {
      "text/plain": [
       "array([u'Water', u'Forest', u'Snow/Cloud', u'Cropland', u'Mix forest',\n",
       "       u'Grassland', u'Built-up', u'Rocky', u'Sno/Cloud'], dtype=object)"
      ]
     },
     "execution_count": 4,
     "metadata": {},
     "output_type": "execute_result"
    },
    {
     "name": "stdout",
     "output_type": "stream",
     "text": [
      "time: 127 ms\n"
     ]
    }
   ],
   "source": [
    "train1 = gpd.read_file(train_dir + 'training.shp').to_crs({'init':'epsg:4326'})\n",
    "train2 = gpd.read_file(train_dir + 'training_2.shp').to_crs({'init':'epsg:4326'})\n",
    "train1.ClassStr.unique()"
   ]
  },
  {
   "cell_type": "code",
   "execution_count": 5,
   "metadata": {},
   "outputs": [
    {
     "name": "stdout",
     "output_type": "stream",
     "text": [
      "time: 75.4 ms\n"
     ]
    }
   ],
   "source": [
    "train3 = gpd.GeoDataFrame([])\n",
    "for cl in [1,2,3,5,6,8]:\n",
    "    temp = train1[train1.Class==cl]\n",
    "    train3 = pd.concat([train3, temp], axis=0)"
   ]
  },
  {
   "cell_type": "code",
   "execution_count": 6,
   "metadata": {},
   "outputs": [
    {
     "name": "stdout",
     "output_type": "stream",
     "text": [
      "time: 100 ms\n"
     ]
    }
   ],
   "source": [
    "train4 = gpd.GeoDataFrame([])\n",
    "for cl in [1,2,3,5,6,8]:\n",
    "    temp = train2[train2.Class==cl]\n",
    "    train4 = pd.concat([train4, temp], axis=0)"
   ]
  },
  {
   "cell_type": "code",
   "execution_count": 7,
   "metadata": {},
   "outputs": [
    {
     "data": {
      "text/plain": [
       "array([1, 2, 3, 4, 5])"
      ]
     },
     "execution_count": 7,
     "metadata": {},
     "output_type": "execute_result"
    },
    {
     "name": "stdout",
     "output_type": "stream",
     "text": [
      "time: 212 ms\n"
     ]
    }
   ],
   "source": [
    "newdic = {'snow':5, 'water':1, 'cropland':2, 'forest':4, 'built-up':3}\n",
    "train = pd.concat([train3, train4], axis=0).reset_index().drop(['index'], axis=1)\n",
    "train.Class[train.Class==5] = 4\n",
    "train.Class[train.Class==6] = 4\n",
    "train.Class[train.Class==8] = 5\n",
    "train.Class.unique()"
   ]
  },
  {
   "cell_type": "code",
   "execution_count": 8,
   "metadata": {},
   "outputs": [
    {
     "data": {
      "image/png": "[encoded data removed]",
      "text/plain": [
       "<Figure size 504x504 with 1 Axes>"
      ]
     },
     "metadata": {},
     "output_type": "display_data"
    },
    {
     "name": "stdout",
     "output_type": "stream",
     "text": [
      "time: 261 ms\n"
     ]
    }
   ],
   "source": [
    "train[train.Class==4].plot(figsize=(7,7))\n",
    "plt.show()"
   ]
  },
  {
   "cell_type": "code",
   "execution_count": 9,
   "metadata": {},
   "outputs": [
    {
     "name": "stdout",
     "output_type": "stream",
     "text": [
      "time: 6.51 s\n"
     ]
    }
   ],
   "source": [
    "rst = rasterio.open('/mnt/ext1/data/sur/lulc/mosaic.tif')\n",
    "meta = rst.meta.copy()\n",
    "meta.update(compress='lzw', dtype='uint8', count=1)\n",
    "with rasterio.open('train.tif', 'w', **meta) as outfile:\n",
    "    shapes = ((geom, value) for geom, value in zip(train.geometry, train.Class))\n",
    "    burned = features.rasterize(shapes=shapes, fill=0, out_shape=rst.shape, \\\n",
    "                                transform=rst.transform)\n",
    "    outfile.write_band(1, burned)"
   ]
  },
  {
   "cell_type": "code",
   "execution_count": 10,
   "metadata": {},
   "outputs": [
    {
     "data": {
      "image/png": "[encoded data removed]",
      "text/plain": [
       "<Figure size 864x864 with 1 Axes>"
      ]
     },
     "metadata": {},
     "output_type": "display_data"
    },
    {
     "name": "stdout",
     "output_type": "stream",
     "text": [
      "time: 23.1 s\n"
     ]
    }
   ],
   "source": [
    "roi = rasterio.open('train.tif').read(1)\n",
    "fig, ax = plt.subplots(1,1,figsize=(12,12))\n",
    "ax.imshow(roi)\n",
    "plt.show()"
   ]
  }
 ],
 "metadata": {
  "kernelspec": {
   "display_name": "Python 2",
   "language": "python",
   "name": "python2"
  },
  "language_info": {
   "codemirror_mode": {
    "name": "ipython",
    "version": 2
   },
   "file_extension": ".py",
   "mimetype": "text/x-python",
   "name": "python",
   "nbconvert_exporter": "python",
   "pygments_lexer": "ipython2",
   "version": "2.7.15"
  }
 },
 "nbformat": 4,
 "nbformat_minor": 2
}
