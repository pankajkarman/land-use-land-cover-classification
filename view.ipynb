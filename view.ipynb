{
 "cells": [
  {
   "cell_type": "code",
   "execution_count": 1,
   "metadata": {},
   "outputs": [],
   "source": [
    "%load_ext autotime\n",
    "import warnings; warnings.filterwarnings('ignore')"
   ]
  },
  {
   "cell_type": "code",
   "execution_count": 2,
   "metadata": {},
   "outputs": [
    {
     "name": "stdout",
     "output_type": "stream",
     "text": [
      "time: 1.07 s\n"
     ]
    }
   ],
   "source": [
    "import rasterio, numpy as np, glob, matplotlib.pyplot as plt\n",
    "from rasterio.plot import reshape_as_raster, reshape_as_image\n",
    "import pandas as pd, xarray as xr, scipy.misc as sm\n",
    "import salem, geopandas as gpd\n",
    "from facets import facets"
   ]
  },
  {
   "cell_type": "code",
   "execution_count": 3,
   "metadata": {},
   "outputs": [
    {
     "name": "stdout",
     "output_type": "stream",
     "text": [
      "time: 2.71 ms\n"
     ]
    }
   ],
   "source": [
    "def save_png(fcc_file, ofile): \n",
    "    fig, ax = plt.subplots(1, 1, figsize=(10,10))\n",
    "    im = rasterio.open(fcc_file).read()[:, ::10, ::10]\n",
    "    ax.imshow(reshape_as_image(im))\n",
    "    ax.axis('off')\n",
    "    plt.savefig(ofile)\n",
    "    plt.show()\n",
    "    plt.close()    "
   ]
  },
  {
   "cell_type": "code",
   "execution_count": 4,
   "metadata": {
    "scrolled": false
   },
   "outputs": [
    {
     "name": "stdout",
     "output_type": "stream",
     "text": [
      "time: 73 ms\n"
     ]
    }
   ],
   "source": [
    "files = sorted(glob.glob('/mnt/ext1/data/sur/lulc/cloud/*T1*'))\n",
    "for fold in files:\n",
    "    tiles = sorted(glob.glob(fold + '/*tile*'))\n",
    "    for tile in tiles:\n",
    "        fcc_file = tile + '/fcc.tif'\n",
    "        ofile = tile + '/fcc.png' \n",
    "        save_png(fcc_file, ofile)"
   ]
  },
  {
   "cell_type": "code",
   "execution_count": 5,
   "metadata": {},
   "outputs": [
    {
     "name": "stdout",
     "output_type": "stream",
     "text": [
      "/mnt/ext1/data/sur/lulc/cloudless/tile1/fcc.acorr.wgs84.tif\n",
      "/mnt/ext1/data/sur/lulc/cloudless/tile10/fcc.acorr.wgs84.tif\n",
      "/mnt/ext1/data/sur/lulc/cloudless/tile11/fcc.acorr.wgs84.tif\n",
      "/mnt/ext1/data/sur/lulc/cloudless/tile12/fcc.acorr.wgs84.tif\n",
      "/mnt/ext1/data/sur/lulc/cloudless/tile13/fcc.acorr.wgs84.tif\n",
      "/mnt/ext1/data/sur/lulc/cloudless/tile14/fcc.acorr.wgs84.tif\n",
      "/mnt/ext1/data/sur/lulc/cloudless/tile2/fcc.acorr.wgs84.tif\n",
      "/mnt/ext1/data/sur/lulc/cloudless/tile3/fcc.acorr.wgs84.tif\n",
      "/mnt/ext1/data/sur/lulc/cloudless/tile4/fcc.acorr.wgs84.tif\n",
      "/mnt/ext1/data/sur/lulc/cloudless/tile5/fcc.acorr.wgs84.tif\n",
      "/mnt/ext1/data/sur/lulc/cloudless/tile6/fcc.acorr.wgs84.tif\n",
      "/mnt/ext1/data/sur/lulc/cloudless/tile7/fcc.acorr.wgs84.tif\n",
      "/mnt/ext1/data/sur/lulc/cloudless/tile8/fcc.acorr.wgs84.tif\n",
      "/mnt/ext1/data/sur/lulc/cloudless/tile9/fcc.acorr.wgs84.tif\n",
      "time: 1.62 s\n"
     ]
    }
   ],
   "source": [
    "for fold in sorted(glob.glob('/mnt/ext1/data/sur/lulc/cloudless/*')):\n",
    "    boths = glob.glob(fold + '/fcc.both*')\n",
    "    boths = ' '.join(boths)\n",
    "    wg = fold + '/fcc.wgs84.tif'\n",
    "    ac = fold + '/fcc.acorr.wgs84.tif'\n",
    "    !rm -rf $boths $wg $ac\n",
    "    print ac"
   ]
  }
 ],
 "metadata": {
  "kernelspec": {
   "display_name": "Python 2",
   "language": "python",
   "name": "python2"
  },
  "language_info": {
   "codemirror_mode": {
    "name": "ipython",
    "version": 2
   },
   "file_extension": ".py",
   "mimetype": "text/x-python",
   "name": "python",
   "nbconvert_exporter": "python",
   "pygments_lexer": "ipython2",
   "version": "2.7.15"
  }
 },
 "nbformat": 4,
 "nbformat_minor": 2
}
