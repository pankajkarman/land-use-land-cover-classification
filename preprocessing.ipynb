{
 "cells": [
  {
   "cell_type": "code",
   "execution_count": 1,
   "metadata": {},
   "outputs": [],
   "source": [
    "%load_ext autotime\n",
    "import warnings; warnings.filterwarnings('ignore')"
   ]
  },
  {
   "cell_type": "code",
   "execution_count": 2,
   "metadata": {},
   "outputs": [
    {
     "name": "stdout",
     "output_type": "stream",
     "text": [
      "time: 2.65 s\n"
     ]
    }
   ],
   "source": [
    "from lulc_utils import *\n",
    "from skimage import exposure\n",
    "import rasterio, numpy as np, glob, matplotlib.pyplot as plt\n",
    "import pandas as pd, xarray as xr, scipy.misc as sm\n",
    "import salem, geopandas as gpd\n",
    "from facets import facets\n",
    "from rasterio import plot "
   ]
  },
  {
   "cell_type": "code",
   "execution_count": 3,
   "metadata": {},
   "outputs": [
    {
     "name": "stdout",
     "output_type": "stream",
     "text": [
      "time: 2.25 ms\n"
     ]
    }
   ],
   "source": [
    "# cloud correction\n",
    "band = [5, 4, 3]\n",
    "\n",
    "# for fold in sorted(glob.glob('/mnt/ext1/data/sur/lulc/cloud/*T1*')):\n",
    "#     tiles = sorted(glob.glob(fold + '/*tile*'))\n",
    "#     for tile in tiles:\n",
    "#         stack_file = tile + '/stack.tif'\n",
    "#         fcc_file = tile + '/fcc.tif'\n",
    "#         ofile = fcc_file.split('.tif')[0] + '.acorr.tif'\n",
    "#         print ofile\n",
    "#         conv = DNConversion(tile).to_reflectance(stack_file)\n",
    "#         conv.get_composite(ofile = fcc_file, stackfile = stack_file, band = band)\n",
    "#         atm = AtmosCorrection(fcc_file).correct(ofile, model = -1)"
   ]
  },
  {
   "cell_type": "code",
   "execution_count": 4,
   "metadata": {},
   "outputs": [
    {
     "name": "stdout",
     "output_type": "stream",
     "text": [
      "/mnt/ext1/data/sur/lulc/cloud/LC08_L1TP_134040_20150312_20170412_01_T1/fcc.both.tif\n",
      "/mnt/ext1/data/sur/lulc/cloud/LC08_L1TP_134041_20150312_20170412_01_T1/fcc.both.tif\n",
      "/mnt/ext1/data/sur/lulc/cloud/LC08_L1TP_134042_20150312_20170412_01_T1/fcc.both.tif\n",
      "/mnt/ext1/data/sur/lulc/cloud/LC08_L1TP_135041_20150725_20170406_01_T1/fcc.both.tif\n",
      "/mnt/ext1/data/sur/lulc/cloud/LC08_L1TP_135042_20151114_20170402_01_T1/fcc.both.tif\n",
      "/mnt/ext1/data/sur/lulc/cloud/LC08_L1TP_135043_20150319_20170412_01_T1/fcc.both.tif\n",
      "/mnt/ext1/data/sur/lulc/cloud/LC08_L1TP_135044_20150130_20170413_01_T1/fcc.both.tif\n",
      "/mnt/ext1/data/sur/lulc/cloud/LC08_L1TP_135045_20150130_20170413_01_T1/fcc.both.tif\n",
      "time: 85.3 ms\n"
     ]
    }
   ],
   "source": [
    "# cloud correction\n",
    "files_to_merge = []\n",
    "fcc_list = []\n",
    "base = '/mnt/ext1/data/sur/lulc/'\n",
    "folds = glob.glob('/mnt/ext1/data/sur/lulc/cloud/*T1*')\n",
    "for fold in folds:\n",
    "    fcc_file = fold + '/tile1/fcc.tif'\n",
    "    file1 = fold + '/tile1/fcc.acorr.tif'\n",
    "    mask1 = fold + '/tile1/mask.tif'\n",
    "    file2 = fold + '/tile2/fcc.acorr.tif'\n",
    "    ofile = fold + '/fcc.both.tif'    \n",
    "    files_to_merge.append(ofile)\n",
    "    fcc_list.append(fcc_file)\n",
    "    print ofile\n",
    "    \n",
    "#     try:\n",
    "#         corr = CloudCorrection(file1, mask1, file2).correct(ofile)\n",
    "#     except:\n",
    "#         file3 = fold + '/tile2/fcc1.tif'\n",
    "#         !rio warp --overwrite $file2 $file3 --like $file1\n",
    "#         corr = CloudCorrection(file1, mask1, file3).correct(ofile)"
   ]
  },
  {
   "cell_type": "code",
   "execution_count": 5,
   "metadata": {},
   "outputs": [
    {
     "name": "stdout",
     "output_type": "stream",
     "text": [
      "/mnt/ext1/data/sur/lulc/cloudless/tile1/fcc.acorr.tif\n",
      "/mnt/ext1/data/sur/lulc/cloudless/tile10/fcc.acorr.tif\n",
      "/mnt/ext1/data/sur/lulc/cloudless/tile11/fcc.acorr.tif\n",
      "/mnt/ext1/data/sur/lulc/cloudless/tile12/fcc.acorr.tif\n",
      "/mnt/ext1/data/sur/lulc/cloudless/tile13/fcc.acorr.tif\n",
      "/mnt/ext1/data/sur/lulc/cloudless/tile14/fcc.acorr.tif\n",
      "/mnt/ext1/data/sur/lulc/cloudless/tile2/fcc.acorr.tif\n",
      "/mnt/ext1/data/sur/lulc/cloudless/tile3/fcc.acorr.tif\n",
      "/mnt/ext1/data/sur/lulc/cloudless/tile4/fcc.acorr.tif\n",
      "/mnt/ext1/data/sur/lulc/cloudless/tile5/fcc.acorr.tif\n",
      "/mnt/ext1/data/sur/lulc/cloudless/tile6/fcc.acorr.tif\n",
      "/mnt/ext1/data/sur/lulc/cloudless/tile7/fcc.acorr.tif\n",
      "/mnt/ext1/data/sur/lulc/cloudless/tile8/fcc.acorr.tif\n",
      "/mnt/ext1/data/sur/lulc/cloudless/tile9/fcc.acorr.tif\n",
      "time: 97.7 ms\n"
     ]
    }
   ],
   "source": [
    "# No cloud correction\n",
    "for fold in sorted(glob.glob('/mnt/ext1/data/sur/lulc/cloudless/*')):\n",
    "    stack_file = fold + '/stack.tif'\n",
    "    fcc_file = fold + '/fcc.tif'\n",
    "    ofile = fcc_file.split('.tif')[0] + '.acorr.tif'\n",
    "    print ofile\n",
    "#     conv = DNConversion(fold).to_reflectance(stack_file)\n",
    "#     conv.get_composite(ofile = fcc_file, stackfile = stack_file, band = band)\n",
    "#     atm = AtmosCorrection(fcc_file).correct(ofile, model = -1)\n",
    "    files_to_merge.append(ofile)\n",
    "    fcc_list.append(fcc_file)"
   ]
  },
  {
   "cell_type": "code",
   "execution_count": 6,
   "metadata": {},
   "outputs": [
    {
     "name": "stdout",
     "output_type": "stream",
     "text": [
      "/mnt/ext1/data/sur/lulc/cloud/LC08_L1TP_134040_20150312_20170412_01_T1/fcc.both.color.wgs84.tif\n",
      "/mnt/ext1/data/sur/lulc/cloud/LC08_L1TP_134041_20150312_20170412_01_T1/fcc.both.color.wgs84.tif\n",
      "/mnt/ext1/data/sur/lulc/cloud/LC08_L1TP_134042_20150312_20170412_01_T1/fcc.both.color.wgs84.tif\n",
      "/mnt/ext1/data/sur/lulc/cloud/LC08_L1TP_135041_20150725_20170406_01_T1/fcc.both.color.wgs84.tif\n",
      "/mnt/ext1/data/sur/lulc/cloud/LC08_L1TP_135042_20151114_20170402_01_T1/fcc.both.color.wgs84.tif\n",
      "/mnt/ext1/data/sur/lulc/cloud/LC08_L1TP_135043_20150319_20170412_01_T1/fcc.both.color.wgs84.tif\n",
      "/mnt/ext1/data/sur/lulc/cloud/LC08_L1TP_135044_20150130_20170413_01_T1/fcc.both.color.wgs84.tif\n",
      "/mnt/ext1/data/sur/lulc/cloud/LC08_L1TP_135045_20150130_20170413_01_T1/fcc.both.color.wgs84.tif\n",
      "/mnt/ext1/data/sur/lulc/cloudless/tile1/fcc.acorr.color.wgs84.tif\n",
      "/mnt/ext1/data/sur/lulc/cloudless/tile10/fcc.acorr.color.wgs84.tif\n",
      "/mnt/ext1/data/sur/lulc/cloudless/tile11/fcc.acorr.color.wgs84.tif\n",
      "/mnt/ext1/data/sur/lulc/cloudless/tile12/fcc.acorr.color.wgs84.tif\n",
      "/mnt/ext1/data/sur/lulc/cloudless/tile13/fcc.acorr.color.wgs84.tif\n",
      "/mnt/ext1/data/sur/lulc/cloudless/tile14/fcc.acorr.color.wgs84.tif\n",
      "/mnt/ext1/data/sur/lulc/cloudless/tile2/fcc.acorr.color.wgs84.tif\n",
      "/mnt/ext1/data/sur/lulc/cloudless/tile3/fcc.acorr.color.wgs84.tif\n",
      "/mnt/ext1/data/sur/lulc/cloudless/tile4/fcc.acorr.color.wgs84.tif\n",
      "/mnt/ext1/data/sur/lulc/cloudless/tile5/fcc.acorr.color.wgs84.tif\n",
      "/mnt/ext1/data/sur/lulc/cloudless/tile6/fcc.acorr.color.wgs84.tif\n",
      "/mnt/ext1/data/sur/lulc/cloudless/tile7/fcc.acorr.color.wgs84.tif\n",
      "/mnt/ext1/data/sur/lulc/cloudless/tile8/fcc.acorr.color.wgs84.tif\n",
      "/mnt/ext1/data/sur/lulc/cloudless/tile9/fcc.acorr.color.wgs84.tif\n",
      "time: 56.1 ms\n"
     ]
    }
   ],
   "source": [
    "final = []\n",
    "for afile in files_to_merge:\n",
    "    #print afile\n",
    "    cfile = afile.split('.tif')[0] + '.color.tif'\n",
    "    wgs = afile.split('.tif')[0] + '.color.wgs84.tif'\n",
    "    print wgs\n",
    "#     clr = ColorCorrection().color_balancing(afile, cfile)\n",
    "#     wgs1 = reproject_dataset(cfile)\n",
    "    final.append(wgs)"
   ]
  },
  {
   "cell_type": "code",
   "execution_count": 7,
   "metadata": {
    "scrolled": false
   },
   "outputs": [
    {
     "name": "stdout",
     "output_type": "stream",
     "text": [
      "time: 79.5 ms\n"
     ]
    }
   ],
   "source": [
    "# mosaicing of files\n",
    "shapefile = '/home/pankaj/phd/practice/sur/data/neshpfile/NE_utm.shp'\n",
    "base = '/mnt/ext1/data/sur/lulc/'\n",
    "mosfile = base + 'mosaic.tif'\n",
    "cropfile = base + 'clipped.tif'\n",
    "crop16 = base + 'clipped.int16.tif'\n",
    "anl = Analysis()\n",
    "# anl.get_mosaic(final, mosfile)\n",
    "# !gdalwarp -overwrite -t_srs EPSG:4326 -cutline $shapefile -crop_to_cutline -dstalpha $mosfile $cropfile\n",
    "# gdal_translate -ot Int16 $cropfile $crop16"
   ]
  },
  {
   "cell_type": "code",
   "execution_count": 8,
   "metadata": {},
   "outputs": [
    {
     "name": "stdout",
     "output_type": "stream",
     "text": [
      "time: 88.4 ms\n"
     ]
    }
   ],
   "source": [
    "# fig, ax = facets(1, 1, width=15, aspect=0.6); ax=ax[0]\n",
    "# with rasterio.open(cropfile) as data:\n",
    "#     im = reshape_as_image(data.read()[:, ::10, ::10])\n",
    "# ax.imshow(im)\n",
    "# ax.axis('off')\n",
    "# plt.show()"
   ]
  },
  {
   "cell_type": "code",
   "execution_count": null,
   "metadata": {},
   "outputs": [
    {
     "name": "stdout",
     "output_type": "stream",
     "text": [
      "/mnt/ext1/data/sur/lulc/color/0.tif\n",
      "/mnt/ext1/data/sur/lulc/color/1.tif\n",
      "/mnt/ext1/data/sur/lulc/color/2.tif\n",
      "/mnt/ext1/data/sur/lulc/color/3.tif\n",
      "/mnt/ext1/data/sur/lulc/color/4.tif\n",
      "/mnt/ext1/data/sur/lulc/color/5.tif\n",
      "/mnt/ext1/data/sur/lulc/color/6.tif\n",
      "/mnt/ext1/data/sur/lulc/color/7.tif\n",
      "/mnt/ext1/data/sur/lulc/color/8.tif\n",
      "/mnt/ext1/data/sur/lulc/color/9.tif\n",
      "/mnt/ext1/data/sur/lulc/color/10.tif\n",
      "/mnt/ext1/data/sur/lulc/color/11.tif\n",
      "/mnt/ext1/data/sur/lulc/color/12.tif\n",
      "/mnt/ext1/data/sur/lulc/color/13.tif\n",
      "/mnt/ext1/data/sur/lulc/color/14.tif\n",
      "/mnt/ext1/data/sur/lulc/color/15.tif\n",
      "/mnt/ext1/data/sur/lulc/color/16.tif\n",
      "/mnt/ext1/data/sur/lulc/color/17.tif\n",
      "/mnt/ext1/data/sur/lulc/color/18.tif\n",
      "/mnt/ext1/data/sur/lulc/color/19.tif\n",
      "/mnt/ext1/data/sur/lulc/color/20.tif\n",
      "/mnt/ext1/data/sur/lulc/color/21.tif\n"
     ]
    }
   ],
   "source": [
    "odir = '/mnt/ext1/data/sur/lulc/color/'\n",
    "for i, filename in enumerate(final):\n",
    "    out = odir + str(i) + '.tif'\n",
    "    print out\n",
    "    !cp $filename $out"
   ]
  },
  {
   "cell_type": "code",
   "execution_count": null,
   "metadata": {},
   "outputs": [],
   "source": [
    "fig, ax = facets(1, 1, width=15, aspect=0.6); ax=ax[0]\n",
    "with rasterio.open(base + 'clipped.int16.tif') as data:\n",
    "    im = reshape_as_image(data.read([1, 2, 3])[:, ::10, ::10])\n",
    "ax.imshow(255*im)\n",
    "ax.axis('off')\n",
    "plt.show()"
   ]
  }
 ],
 "metadata": {
  "kernelspec": {
   "display_name": "Python 2",
   "language": "python",
   "name": "python2"
  },
  "language_info": {
   "codemirror_mode": {
    "name": "ipython",
    "version": 2
   },
   "file_extension": ".py",
   "mimetype": "text/x-python",
   "name": "python",
   "nbconvert_exporter": "python",
   "pygments_lexer": "ipython2",
   "version": "2.7.15"
  }
 },
 "nbformat": 4,
 "nbformat_minor": 2
}
